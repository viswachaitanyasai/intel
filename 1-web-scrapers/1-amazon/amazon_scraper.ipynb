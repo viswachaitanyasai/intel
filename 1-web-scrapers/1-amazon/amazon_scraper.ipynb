{
 "cells": [
  {
   "cell_type": "code",
   "execution_count": null,
   "metadata": {},
   "outputs": [],
   "source": [
    "import requests\n",
    "from bs4 import BeautifulSoup\n",
    "import pandas as pd\n",
    "import re"
   ]
  },
  {
   "cell_type": "code",
   "execution_count": null,
   "metadata": {},
   "outputs": [],
   "source": [
    "with open('amazon_in_urls.txt', 'r') as f:\n",
    "    lines = [line.strip() for line in f]\n",
    "    \n",
    "reviewlist = []\n",
    "domains = [\".com\", \".co.uk\", \".ca\", \".in\", \".co.mx\", \".com.au\", \".co.jp\", \".sg\", \".nl\", \".de\", \".fr\", \".it\", \".es\", \".com.br\"]"
   ]
  },
  {
   "cell_type": "code",
   "execution_count": null,
   "metadata": {},
   "outputs": [],
   "source": [
    "def get_soup(url):\n",
    "    params = {'url': url, 'wait': 2}\n",
    "    r = requests.get('http://localhost:8050/render.html', params=params)\n",
    "    soup = BeautifulSoup(r.text, 'html.parser')\n",
    "    return soup"
   ]
  },
  {
   "cell_type": "code",
   "execution_count": null,
   "metadata": {},
   "outputs": [],
   "source": [
    "def get_reviews(soup, product_name):\n",
    "    reviews = soup.find_all('div', {'data-hook': 'review'})\n",
    "    try:\n",
    "        for item in reviews:\n",
    "            product_title = product_name \n",
    "            review_date = item.find('span', {'data-hook': 'review-date'}).text.strip()\n",
    "            review_date = ' '.join(review_date.split()[-3:]) #Reviewed in India on 15 July 2023\n",
    "\n",
    "            rating_text = item.find('i', {'data-hook': 'review-star-rating'}).text.strip()\n",
    "            rating_value = re.search(r'(\\d)', rating_text) #4.0 out of 5 stars\n",
    "            rating = int(rating_value)\n",
    "\n",
    "            review = {\n",
    "                'Product': product_title,\n",
    "                'Rating': rating,\n",
    "                'Date': review_date,\n",
    "                'Review': item.find('span', {'data-hook': 'review-body'}).text.strip(),\n",
    "            }\n",
    "            reviewlist.append(review)\n",
    "    except Exception as e:\n",
    "        print(f\"An error occurred: {e}\")"
   ]
  },
  {
   "cell_type": "code",
   "execution_count": null,
   "metadata": {},
   "outputs": [],
   "source": [
    "for i in range(0, len(lines), 2):\n",
    "    base_url = lines[i]\n",
    "    product_name = lines[i + 1]\n",
    "\n",
    "    print(f\"\\nScraping reviews for: {product_name}\")\n",
    "\n",
    "    for y in domains:\n",
    "        for x in range(1, 11):\n",
    "            url = re.sub(r'www\\.amazon\\.com', f'www.amazon{y}', base_url)\n",
    "            url = f'{url}&pageNumber={x}'\n",
    "            soup = get_soup(url)\n",
    "            print(f'Getting page: {x} from {y}')\n",
    "            initial_length = len(reviewlist)\n",
    "            get_reviews(soup, product_name)\n",
    "            print(len(reviewlist))\n",
    "            print(url)\n",
    "            if len(reviewlist) == initial_length:\n",
    "                break\n",
    "            if not soup.find('li', {'class': 'a-disabled a-last'}):\n",
    "                pass\n",
    "            else:\n",
    "                break"
   ]
  },
  {
   "cell_type": "code",
   "execution_count": null,
   "metadata": {},
   "outputs": [
    {
     "name": "stdout",
     "output_type": "stream",
     "text": [
      "Fin.\n"
     ]
    }
   ],
   "source": [
    "output_file = '../data/amazon.csv'\n",
    "df = pd.DataFrame(reviewlist)\n",
    "\n",
    "if not df.empty:\n",
    "    df.to_csv(output_file, index=False)\n",
    "\n",
    "print('Fin.')"
   ]
  }
 ],
 "metadata": {
  "kernelspec": {
   "display_name": "Python 3 (ipykernel)",
   "language": "python",
   "name": "python3"
  },
  "language_info": {
   "codemirror_mode": {
    "name": "ipython",
    "version": 3
   },
   "file_extension": ".py",
   "mimetype": "text/x-python",
   "name": "python",
   "nbconvert_exporter": "python",
   "pygments_lexer": "ipython3",
   "version": "3.12.3"
  }
 },
 "nbformat": 4,
 "nbformat_minor": 4
}
