{
 "cells": [
  {
   "cell_type": "code",
   "execution_count": null,
   "metadata": {},
   "outputs": [],
   "source": [
    "import pandas as pd\n",
    "from langdetect import detect, LangDetectException\n",
    "from googletrans import Translator\n",
    "import numpy as np\n",
    "import re\n",
    "import nltk"
   ]
  },
  {
   "cell_type": "markdown",
   "metadata": {},
   "source": [
    "1. **For each review**:\n",
    "\n",
    "   * Detect language using `langdetect`.\n",
    "   * If detected language is not English → translate to English using Google Translate.\n",
    "\n",
    "2. **Clean text**:\n",
    "\n",
    "   * Remove numbers.\n",
    "   * Remove **non-alphabetic characters** (keep only letters and spaces).\n",
    "   * Convert text to **lowercase**.\n",
    "   * Tokenize text into individual words.\n",
    "   * Remove **stopwords** (common irrelevant words like “the”, “is”, “and”).\n",
    "   * Apply **lemmatization** (reduce words to base form, e.g., “running” → “run”).\n",
    "\n",
    "3. **Handle missing values**:\n",
    "\n",
    "   * For numeric columns → fill with column mean.\n",
    "   * For non-numeric columns → fill with column mode.\n",
    "\n",
    "4. **Remove duplicate rows**."
   ]
  },
  {
   "cell_type": "code",
   "execution_count": null,
   "metadata": {},
   "outputs": [],
   "source": [
    "# Download NLTK data (run once)\n",
    "nltk.download('stopwords')\n",
    "nltk.download('punkt')\n",
    "nltk.download('wordnet')\n",
    "\n",
    "from nltk.corpus import stopwords\n",
    "from nltk.tokenize import word_tokenize\n",
    "from nltk.stem import WordNetLemmatizer\n",
    "\n",
    "translator = Translator()\n",
    "stop_words = set(stopwords.words('english'))\n",
    "lemmatizer = WordNetLemmatizer()"
   ]
  },
  {
   "cell_type": "code",
   "execution_count": null,
   "metadata": {},
   "outputs": [],
   "source": [
    "def detect_and_translate(text):\n",
    "    text = text.strip()\n",
    "    if not text:\n",
    "        return text  \n",
    "\n",
    "    try:\n",
    "        lang = detect(text)\n",
    "        print(f\"Detected language: {lang} for text: {text[:30]}...\")\n",
    "\n",
    "        if lang != 'en':\n",
    "            translated = translator.translate(text, dest='en')\n",
    "            print(f\"Translated text: {translated.text[:30]}...\")\n",
    "            return translated.text\n",
    "        else:\n",
    "            return text\n",
    "\n",
    "    except LangDetectException:\n",
    "        return text\n",
    "    except Exception as e:\n",
    "        print(f\"Error: {e}. Text: {text}\")\n",
    "        return text"
   ]
  },
  {
   "cell_type": "code",
   "execution_count": null,
   "metadata": {},
   "outputs": [],
   "source": [
    "def clean_text(text):\n",
    "    if not isinstance(text, str):\n",
    "        return text\n",
    "\n",
    "    text = re.sub(r'\\d+', '', text)\n",
    "    text = re.sub(r'[^A-Za-z\\s]', '', text)\n",
    "    text = text.lower()\n",
    "    words = word_tokenize(text)\n",
    "    words = [word for word in words if word not in stop_words]\n",
    "    words = [lemmatizer.lemmatize(word) for word in words]\n",
    "    return ' '.join(words)"
   ]
  },
  {
   "cell_type": "code",
   "execution_count": null,
   "metadata": {},
   "outputs": [],
   "source": [
    "def clean_data(file_path):\n",
    "    df = pd.read_csv(file_path)\n",
    "\n",
    "    df['Review'] = df['Review'].apply(detect_and_translate)\n",
    "\n",
    "    df['Review'] = df['Review'].apply(clean_text)\n",
    "\n",
    "    for column in df.columns:\n",
    "        if np.issubdtype(df[column].dtype, np.number):\n",
    "            df[column] = df[column].fillna(df[column].mean())\n",
    "        else:\n",
    "            df = df[df[column].notna()]\n",
    "\n",
    "    df = df.drop_duplicates()\n",
    "\n",
    "    return df"
   ]
  },
  {
   "cell_type": "code",
   "execution_count": null,
   "metadata": {},
   "outputs": [],
   "source": [
    "file_path = '../data/products-unclean.csv'\n",
    "cleaned_df = clean_data(file_path)\n",
    "\n",
    "\n",
    "cleaned_df.to_csv('../data/products.csv', index=False)\n",
    "print(\"Data cleaning complete. Saved to '../dat/products.csv'.\")"
   ]
  }
 ],
 "metadata": {
  "kernelspec": {
   "display_name": "Python 3 (ipykernel)",
   "language": "python",
   "name": "python3"
  },
  "language_info": {
   "codemirror_mode": {
    "name": "ipython",
    "version": 3
   },
   "file_extension": ".py",
   "mimetype": "text/x-python",
   "name": "python",
   "nbconvert_exporter": "python",
   "pygments_lexer": "ipython3",
   "version": "3.12.3"
  }
 },
 "nbformat": 4,
 "nbformat_minor": 4
}
