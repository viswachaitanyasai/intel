{
 "cells": [
  {
   "cell_type": "code",
   "execution_count": null,
   "metadata": {},
   "outputs": [],
   "source": [
    "import pandas as pd\n",
    "import requests\n",
    "import re\n",
    "from bs4 import BeautifulSoup"
   ]
  },
  {
   "cell_type": "code",
   "execution_count": null,
   "metadata": {},
   "outputs": [],
   "source": [
    "def fetch_with_splash(url):\n",
    "    params = {\n",
    "        'url': url,\n",
    "        'wait': 2\n",
    "    }\n",
    "    r = requests.get('http://localhost:8050/render.html', params=params)\n",
    "    if r.status_code == 200:\n",
    "        return r.text\n",
    "    else:\n",
    "        print(f\"Error fetching {url} | Status: {r.status_code}\")\n",
    "        return None"
   ]
  },
  {
   "cell_type": "code",
   "execution_count": null,
   "metadata": {},
   "outputs": [],
   "source": [
    "with open('bestbuy_urls.txt', 'r') as f:\n",
    "    lines = [line.strip() for line in f]\n",
    "    "
   ]
  },
  {
   "cell_type": "code",
   "execution_count": null,
   "metadata": {},
   "outputs": [],
   "source": [
    "all_reviews_data = []\n",
    "\n",
    "\n",
    "for i in range(0, len(lines), 2):\n",
    "    product_url = lines[i]\n",
    "    product_name = lines[i+1]\n",
    "\n",
    "\n",
    "    print(f\"\\nStarting scraping reviews for: {product_name}\")\n",
    "\n",
    "    reviews_data = []\n",
    "\n",
    "    \n",
    "    for page_num in range(1, 11):\n",
    "        page_url = f\"{product_url}&page={page_num}\"\n",
    "        html = fetch_with_splash(page_url)\n",
    "        if not html:\n",
    "            print(f\"Skipping page {page_num} due to fetch error.\")\n",
    "            continue\n",
    "        soup = BeautifulSoup(html, 'html.parser')\n",
    "\n",
    "        review_blocks = soup.findAll(\"div\", {'class': \"review-item\"})\n",
    "        if not review_blocks:\n",
    "            print(f\"No reviews found on page {page_num}. Stopping pagination.\")\n",
    "            break\n",
    "\n",
    "        for review in review_blocks:\n",
    "            review_text = None\n",
    "            div1 = review.find(\"div\", {'class': \"ugc-review-body\"})\n",
    "            if div1:\n",
    "                div2 = div1.find('div', {'class': \"ugc-components ugc-line-clamp relative\"})\n",
    "                if div2:\n",
    "                    p_tag = div2.find(\"p\", {'class': \"pre-white-space\"})\n",
    "                    if p_tag:\n",
    "                        review_text = p_tag.text.strip()\n",
    "\n",
    "            review_date = None\n",
    "            date_div = review.find('div', {'class': \"posted-date-ownership disclaimer v-m-right-xxs\"})\n",
    "            if date_div:\n",
    "                time_tag = date_div.find(\"time\", {'class': \"submission-date\"})\n",
    "                if time_tag and time_tag.get('title'):\n",
    "                    review_date = time_tag['title']\n",
    "\n",
    "            rating = None\n",
    "            rating_p = review.find(\"p\", {'class': \"visually-hidden\"})\n",
    "            if rating_p:\n",
    "                text = rating_p.text.strip()\n",
    "                if text.startswith(\"Rated\"):\n",
    "                    rating_str = text.replace(' out of 5 stars', '').replace('Rated ', '')\n",
    "                    try:\n",
    "                        rating = float(rating_str)\n",
    "                    except ValueError:\n",
    "                        rating = None\n",
    "\n",
    "            if review_text:\n",
    "                reviews_data.append({\n",
    "                    'Product': product_name,\n",
    "                    'Review': review_text,\n",
    "                    'Date': review_date,\n",
    "                    'Rating': rating\n",
    "                })\n",
    "\n",
    "        print(f\"Scraped {len(review_blocks)} reviews from page {page_num}\")\n",
    "\n",
    "    print(f\"Finished scraping {len(reviews_data)} reviews for {product_name}\")\n",
    "    all_reviews_data.extend(reviews_data)"
   ]
  },
  {
   "cell_type": "code",
   "execution_count": null,
   "metadata": {},
   "outputs": [],
   "source": [
    "output_file = '../data/bestbuy.csv'\n",
    "\n",
    "df = pd.DataFrame(all_reviews_data)\n",
    "if not df.empty:\n",
    "    df.to_csv(output_file, index=False)"
   ]
  }
 ],
 "metadata": {
  "kernelspec": {
   "display_name": "Python 3 (ipykernel)",
   "language": "python",
   "name": "python3"
  },
  "language_info": {
   "codemirror_mode": {
    "name": "ipython",
    "version": 3
   },
   "file_extension": ".py",
   "mimetype": "text/x-python",
   "name": "python",
   "nbconvert_exporter": "python",
   "pygments_lexer": "ipython3",
   "version": "3.12.3"
  }
 },
 "nbformat": 4,
 "nbformat_minor": 4
}
