{
 "cells": [
  {
   "cell_type": "code",
   "execution_count": 1,
   "metadata": {},
   "outputs": [],
   "source": [
    "import pandas as pd\n",
    "from transformers import pipeline\n",
    "import math\n",
    "from tqdm import tqdm"
   ]
  },
  {
   "cell_type": "code",
   "execution_count": null,
   "metadata": {},
   "outputs": [],
   "source": [
    "input_file = 'data/products.csv'  \n",
    "output_file = 'data/summarized-reivew.csv' \n",
    "\n",
    "df = pd.read_csv(input_file)\n",
    "\n",
    "grouped_df = df.groupby('Product')['Review'].apply(lambda x: \" \".join(x.astype(str))).reset_index()\n",
    "\n",
    "summarizer = pipeline(\"summarization\", model=\"facebook/bart-large-cnn\")"
   ]
  },
  {
   "cell_type": "code",
   "execution_count": null,
   "metadata": {},
   "outputs": [],
   "source": [
    "def summarize_text(text):\n",
    "    if not isinstance(text, str) or len(text.strip()) == 0:\n",
    "        return \"\"\n",
    "    \n",
    "    summary = summarizer(text, do_sample=False)\n",
    "    return summary[0]['summary_text']\n"
   ]
  },
  {
   "cell_type": "code",
   "execution_count": null,
   "metadata": {},
   "outputs": [],
   "source": [
    "summaries = []\n",
    "for idx, row in grouped_df.iterrows():\n",
    "    product = row['Product']\n",
    "    combined_reviews = row['Review']\n",
    "    summary = summarize_text(combined_reviews)\n",
    "    summaries.append({'Product': product, 'Summary': summary})\n",
    "\n",
    "output_df = pd.DataFrame(summaries)\n",
    "output_df.to_csv(output_file, index=False)\n",
    "\n",
    "print(f\"Summarization complete. Output saved to {output_file}\")\n"
   ]
  }
 ],
 "metadata": {
  "kernelspec": {
   "display_name": "Python 3",
   "language": "python",
   "name": "python3"
  },
  "language_info": {
   "codemirror_mode": {
    "name": "ipython",
    "version": 3
   },
   "file_extension": ".py",
   "mimetype": "text/x-python",
   "name": "python",
   "nbconvert_exporter": "python",
   "pygments_lexer": "ipython3",
   "version": "3.12.3"
  }
 },
 "nbformat": 4,
 "nbformat_minor": 4
}
