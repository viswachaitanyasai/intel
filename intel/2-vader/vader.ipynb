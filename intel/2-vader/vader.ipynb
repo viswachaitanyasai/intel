{
 "cells": [
  {
   "cell_type": "code",
   "execution_count": null,
   "id": "5089cdb7",
   "metadata": {},
   "outputs": [],
   "source": [
    "import pandas as pd\n",
    "from nltk.sentiment.vader import SentimentIntensityAnalyzer\n",
    "import nltk"
   ]
  },
  {
   "cell_type": "code",
   "execution_count": null,
   "id": "8c591a73",
   "metadata": {},
   "outputs": [],
   "source": [
    "nltk.download('vader_lexicon')\n",
    "\n",
    "sia = SentimentIntensityAnalyzer()\n",
    "\n",
    "file_path = 'data/train_data_unlabeled.csv'\n",
    "df = pd.read_csv(file_path)"
   ]
  },
  {
   "cell_type": "code",
   "execution_count": null,
   "id": "dd2ee3d1",
   "metadata": {},
   "outputs": [],
   "source": [
    "def analyze_sentiment(review):\n",
    "    scores = sia.polarity_scores(str(review))\n",
    "    return scores\n",
    "\n",
    "df['Score'] = df['Review'].apply(analyze_sentiment)\n",
    "\n",
    "\n",
    "def set_sentiment(score):\n",
    "    if score['compound'] >= 0.5:\n",
    "        return 'positive'\n",
    "    elif score['compound'] <= -0.5:\n",
    "        return 'negative'\n",
    "    else:\n",
    "        return 'neutral'\n",
    "\n",
    "df['Sentiment'] = df['Score'].apply(set_sentiment)\n",
    "\n",
    "output_file_path = '../data/train_data.csv'\n",
    "df.to_csv(output_file_path, index=False)\n",
    "\n",
    "print(f\"Sentiment analysis complete. Results saved to {output_file_path}\")\n"
   ]
  }
 ],
 "metadata": {
  "language_info": {
   "name": "python"
  }
 },
 "nbformat": 4,
 "nbformat_minor": 5
}
