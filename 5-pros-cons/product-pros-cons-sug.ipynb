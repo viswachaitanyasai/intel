{
 "cells": [
  {
   "cell_type": "code",
   "execution_count": 3,
   "metadata": {},
   "outputs": [],
   "source": [
    "import pandas as pd\n",
    "from sklearn.feature_extraction.text import CountVectorizer\n",
    "from nltk.sentiment.vader import SentimentIntensityAnalyzer\n",
    "import google.generativeai as genai\n",
    "from tqdm import tqdm\n",
    "import nltk"
   ]
  },
  {
   "cell_type": "code",
   "execution_count": null,
   "metadata": {},
   "outputs": [],
   "source": [
    "nltk.download('vader_lexicon')\n",
    "\n",
    "df = pd.read_csv('data/products.csv')\n",
    "\n",
    "sid = SentimentIntensityAnalyzer()"
   ]
  },
  {
   "cell_type": "code",
   "execution_count": null,
   "metadata": {},
   "outputs": [],
   "source": [
    "def get_sentiment(phrase):\n",
    "    return sid.polarity_scores(phrase)['compound']\n",
    "\n",
    "def analyze_reviews(reviews):\n",
    "    vectorizer = CountVectorizer(ngram_range=(2, 3), min_df=2)\n",
    "    X = vectorizer.fit_transform(reviews)\n",
    "    \n",
    "    counts = X.sum(axis=0).A1\n",
    "    features = vectorizer.get_feature_names_out()\n",
    "    df_ngrams = pd.DataFrame({'ngram': features, 'count': counts})\n",
    "    \n",
    "    df_ngrams['sentiment'] = df_ngrams['ngram'].apply(get_sentiment)\n",
    "    \n",
    "    positive = df_ngrams[df_ngrams['sentiment'] > 0].sort_values(by='count', ascending=False).head(20)\n",
    "    negative = df_ngrams[df_ngrams['sentiment'] < 0].sort_values(by='count', ascending=False).head(20)\n",
    "    \n",
    "    return list(positive['ngram']), list(negative['ngram'])"
   ]
  },
  {
   "cell_type": "code",
   "execution_count": null,
   "metadata": {},
   "outputs": [],
   "source": [
    "genai.configure(api_key=\"AIzaSyC1x2Y3Z4A5B6C7D8E9F0G1H2I3J4K5L6M7\")\n",
    "\n",
    "def get_gemini_analysis(product, positives, negatives):\n",
    "    prompt = f\"\"\"\n",
    "    Product: {product}\n",
    "    Positive Phrases: {positives}\n",
    "    Negative Phrases: {negatives}\n",
    "\n",
    "    Based on the above, try to under the positive and negative phrases from the customers and provide:\n",
    "    1. Pros\n",
    "    2. Cons\n",
    "    3. Suggestions for improvement\n",
    "    Return in JSON format with keys: Pros, Cons, Suggestions\n",
    "    \"\"\"\n",
    "    model = genai.GenerativeModel(\"gemini-1.5-flash\")\n",
    "    response = model.generate_content(prompt)\n",
    "    \n",
    "    try:\n",
    "        result = eval(response.text)\n",
    "    except:\n",
    "        result = {\"Pros\": \"\", \"Cons\": \"\", \"Suggestions\": \"\"}\n",
    "    \n",
    "    return result"
   ]
  },
  {
   "cell_type": "code",
   "execution_count": null,
   "metadata": {},
   "outputs": [],
   "source": [
    "output_data = []\n",
    "for product, group in tqdm(df.groupby('Product')):\n",
    "    positives, negatives = analyze_reviews(group['Review'])\n",
    "    gemini_result = get_gemini_analysis(product, positives, negatives)\n",
    "    \n",
    "    output_data.append({\n",
    "        \"Product\": product,\n",
    "        \"Pros\": gemini_result.get(\"Pros\", \"\"),\n",
    "        \"Cons\": gemini_result.get(\"Cons\", \"\"),\n",
    "        \"Suggestions\": gemini_result.get(\"Suggestions\", \"\")\n",
    "    })\n",
    "\n",
    "output_df = pd.DataFrame(output_data)\n",
    "output_df.to_csv(\"products_pros_cons_sug.csv\", index=False)\n",
    "\n",
    "print(\"Analysis complete. Saved to products_pros_cons_sug.csv\")"
   ]
  }
 ],
 "metadata": {
  "kernelspec": {
   "display_name": "Python 3",
   "language": "python",
   "name": "python3"
  },
  "language_info": {
   "codemirror_mode": {
    "name": "ipython",
    "version": 3
   },
   "file_extension": ".py",
   "mimetype": "text/x-python",
   "name": "python",
   "nbconvert_exporter": "python",
   "pygments_lexer": "ipython3",
   "version": "3.12.3"
  }
 },
 "nbformat": 4,
 "nbformat_minor": 4
}
